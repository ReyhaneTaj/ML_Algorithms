{
  "nbformat": 4,
  "nbformat_minor": 0,
  "metadata": {
    "colab": {
      "provenance": [],
      "authorship_tag": "ABX9TyOzGwfvMtx/KApCL2VOmt/t",
      "include_colab_link": true
    },
    "kernelspec": {
      "name": "python3",
      "display_name": "Python 3"
    },
    "language_info": {
      "name": "python"
    }
  },
  "cells": [
    {
      "cell_type": "markdown",
      "metadata": {
        "id": "view-in-github",
        "colab_type": "text"
      },
      "source": [
        "<a href=\"https://colab.research.google.com/github/ReyhaneTaj/ML_Algorithms/blob/main/ParamerticVSNonparametric.ipynb\" target=\"_parent\"><img src=\"https://colab.research.google.com/assets/colab-badge.svg\" alt=\"Open In Colab\"/></a>"
      ]
    },
    {
      "cell_type": "markdown",
      "source": [
        "# Parametric and Nonparametric Models\n",
        "\n",
        "## Parametric Models\n",
        "\n",
        "**Definition**: Parametric models assume a specific form for the function that maps inputs to outputs and have a fixed number of parameters determined from the training data.\n",
        "\n",
        "### Characteristics\n",
        "- **Fixed Number of Parameters**: The model complexity is limited by a set number of parameters.\n",
        "- **Strong Assumptions**: Assumes a specific form for the relationship between inputs and outputs (e.g., linear).\n",
        "- **Efficiency**: Generally computationally efficient for training and prediction.\n",
        "- **Examples**:\n",
        "  - **Linear Regression**: Assumes a linear relationship between features and the target.\n",
        "  - **Logistic Regression**: Assumes a logistic relationship for binary classification.\n",
        "\n",
        "### Advantages\n",
        "- Simplicity and interpretability.\n",
        "- Faster to train and predict.\n",
        "- Requires less data to estimate parameters.\n",
        "\n",
        "### Disadvantages\n",
        "- Limited flexibility; may not capture complex relationships.\n",
        "- Can underfit if the model assumptions do not hold.\n",
        "\n",
        "## Nonparametric Models\n",
        "\n",
        "**Definition**: Nonparametric models do not assume a specific form for the function and have a flexible number of parameters that grow with the amount of training data.\n",
        "\n",
        "### Characteristics\n",
        "- **Flexible Number of Parameters**: Can adapt complexity based on data.\n",
        "- **Few Assumptions**: Does not assume a fixed form for the mapping function.\n",
        "- **Adaptability**: More adaptable to different types of data and complex relationships.\n",
        "- **Examples**:\n",
        "  - **K-Nearest Neighbors (KNN)**: Predicts based on the closest training examples.\n",
        "  - **Decision Trees**: Splits data recursively without assuming a specific form.\n",
        "  - **Random Forests**: An ensemble of decision trees.\n",
        "  - **Support Vector Machines (SVM) with Non-linear Kernels**: Defines decision boundaries using support vectors.\n",
        "  - **Neural Networks**: Adjusts weights and biases through training.\n",
        "\n",
        "### Advantages\n",
        "- Greater flexibility and ability to model complex relationships.\n",
        "- Can potentially provide better performance with enough data.\n",
        "\n",
        "### Disadvantages\n",
        "- Computationally intensive, especially with large datasets.\n",
        "- Requires more data to achieve high performance.\n",
        "- Can overfit without proper regularization.\n",
        "\n",
        "### Summary\n",
        "\n",
        "- **Parametric Models**: Assume a specific form and have a fixed number of parameters, making them simple and efficient but less flexible.\n",
        "- **Nonparametric Models**: Do not assume a specific form and have a variable number of parameters, offering greater flexibility but requiring more data and computational resources.\n"
      ],
      "metadata": {
        "id": "LaTw1eyQEmBe"
      }
    }
  ]
}